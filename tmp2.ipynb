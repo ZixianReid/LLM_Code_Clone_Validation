{
 "cells": [
  {
   "cell_type": "code",
   "id": "initial_id",
   "metadata": {
    "collapsed": true,
    "ExecuteTime": {
     "end_time": "2024-06-17T15:01:22.180640Z",
     "start_time": "2024-06-17T15:01:14.179467Z"
    }
   },
   "source": [
    "from datasets import load_dataset\n",
    "\n",
    "\n",
    "dataset = load_dataset('Reid996/OJClone_code_clone')\n"
   ],
   "outputs": [
    {
     "data": {
      "text/plain": [
       "Downloading data:   0%|          | 0.00/34.9M [00:00<?, ?B/s]"
      ],
      "application/vnd.jupyter.widget-view+json": {
       "version_major": 2,
       "version_minor": 0,
       "model_id": "0532eb6209fc4cd89bdeece13912206c"
      }
     },
     "metadata": {},
     "output_type": "display_data"
    },
    {
     "data": {
      "text/plain": [
       "Downloading data:   0%|          | 0.00/11.7M [00:00<?, ?B/s]"
      ],
      "application/vnd.jupyter.widget-view+json": {
       "version_major": 2,
       "version_minor": 0,
       "model_id": "9d0e2a3d67f24d99a69398d76ad8e3b5"
      }
     },
     "metadata": {},
     "output_type": "display_data"
    },
    {
     "data": {
      "text/plain": [
       "Downloading data:   0%|          | 0.00/11.7M [00:00<?, ?B/s]"
      ],
      "application/vnd.jupyter.widget-view+json": {
       "version_major": 2,
       "version_minor": 0,
       "model_id": "2991a41ee13a4fca9ed1eb27eb0725d2"
      }
     },
     "metadata": {},
     "output_type": "display_data"
    },
    {
     "data": {
      "text/plain": [
       "Generating train split:   0%|          | 0/30000 [00:00<?, ? examples/s]"
      ],
      "application/vnd.jupyter.widget-view+json": {
       "version_major": 2,
       "version_minor": 0,
       "model_id": "39217b267faa4e66b959c5ed6d1376dc"
      }
     },
     "metadata": {},
     "output_type": "display_data"
    },
    {
     "data": {
      "text/plain": [
       "Generating validation split:   0%|          | 0/10000 [00:00<?, ? examples/s]"
      ],
      "application/vnd.jupyter.widget-view+json": {
       "version_major": 2,
       "version_minor": 0,
       "model_id": "9037b2ff7b8942b28f755ab0e870fb60"
      }
     },
     "metadata": {},
     "output_type": "display_data"
    },
    {
     "data": {
      "text/plain": [
       "Generating test split:   0%|          | 0/10000 [00:00<?, ? examples/s]"
      ],
      "application/vnd.jupyter.widget-view+json": {
       "version_major": 2,
       "version_minor": 0,
       "model_id": "418547c4ee7f4ee99140148ef03351c3"
      }
     },
     "metadata": {},
     "output_type": "display_data"
    }
   ],
   "execution_count": 1
  },
  {
   "metadata": {
    "ExecuteTime": {
     "end_time": "2024-06-17T15:01:50.891053Z",
     "start_time": "2024-06-17T15:01:50.888489Z"
    }
   },
   "cell_type": "code",
   "source": "dataset['train'][0]['fun1']",
   "id": "9736d0dcf7705f00",
   "outputs": [
    {
     "data": {
      "text/plain": [
       "\"\\nint a[200];\\nint b[100];\\nint lena = 0;\\nint lenb = 0;\\nvoid Input() {\\n\\tcin >> lena >> lenb;\\n\\tfor (int i = 0; i < lena; i++) {\\n\\t\\tcin >> a[i];\\n\\t}\\n\\tfor (int i = 0; i < lenb; i++) {\\n\\t\\tcin >> b[i];\\n\\t}\\n}\\nvoid Sort() {\\n\\tfor (int i = 1; i <= lena - 1; i++) {\\n\\t\\tfor (int j = 0; j <= lena - 1 - i; j++) {\\n\\t\\t\\tif (a[j] > a[j + 1]) {\\n\\t\\t\\t\\tint temp = a[j];\\n\\t\\t\\t\\ta[j] = a[j + 1];\\n\\t\\t\\t\\ta[j + 1] = temp;\\n\\t\\t\\t}\\n\\t\\t}\\n\\t}\\n\\tfor (int i = 1; i <= lenb - 1; i++) {\\n\\t\\tfor (int j = 0; j <= lenb - 1 - i; j++) {\\n\\t\\t\\tif (b[j] > b[j + 1]) {\\n\\t\\t\\t\\tint temp = b[j];\\n\\t\\t\\t\\tb[j] = b[j + 1];\\n\\t\\t\\t\\tb[j + 1] = temp;\\n\\t\\t\\t}\\n\\t\\t}\\n\\t}\\n}\\nvoid Catenate() {\\n\\tfor (int i = 0; i <= lenb - 1; i++) {\\n\\t\\ta[lena + i] = b[i];\\n\\t}\\n}\\nvoid Output() {\\n\\tcout << a[0];\\n\\tfor (int i = 1; i <= lena + lenb - 1; i++) {\\n\\t\\tcout << ' ' << a[i];\\n\\t}\\n}\\nint main() {\\n\\tInput();\\n\\tSort();\\n\\tCatenate();\\n\\tOutput();\\n\\treturn 0;\\n}\\n\""
      ]
     },
     "execution_count": 4,
     "metadata": {},
     "output_type": "execute_result"
    }
   ],
   "execution_count": 4
  },
  {
   "metadata": {},
   "cell_type": "code",
   "outputs": [],
   "execution_count": null,
   "source": "",
   "id": "6781e182ecd99527"
  }
 ],
 "metadata": {
  "kernelspec": {
   "display_name": "Python 3",
   "language": "python",
   "name": "python3"
  },
  "language_info": {
   "codemirror_mode": {
    "name": "ipython",
    "version": 2
   },
   "file_extension": ".py",
   "mimetype": "text/x-python",
   "name": "python",
   "nbconvert_exporter": "python",
   "pygments_lexer": "ipython2",
   "version": "2.7.6"
  }
 },
 "nbformat": 4,
 "nbformat_minor": 5
}
