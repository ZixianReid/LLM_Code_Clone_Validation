{
 "cells": [
  {
   "cell_type": "code",
   "id": "initial_id",
   "metadata": {
    "collapsed": true,
    "ExecuteTime": {
     "end_time": "2024-06-11T11:01:36.084941Z",
     "start_time": "2024-06-11T11:01:36.082850Z"
    }
   },
   "source": [
    "import torch\n",
    "from transformers import AutoModelForCausalLM, AutoTokenizer\n",
    "from transformers import BitsAndBytesConfig"
   ],
   "outputs": [],
   "execution_count": 25
  },
  {
   "metadata": {
    "ExecuteTime": {
     "end_time": "2024-06-11T11:01:36.095840Z",
     "start_time": "2024-06-11T11:01:36.093429Z"
    }
   },
   "cell_type": "code",
   "source": "model = 'deepseek-ai/deepseek-coder-1.3b-instruct'",
   "id": "1182b0285ba0280a",
   "outputs": [],
   "execution_count": 26
  },
  {
   "metadata": {
    "ExecuteTime": {
     "end_time": "2024-06-11T11:01:37.088297Z",
     "start_time": "2024-06-11T11:01:36.096366Z"
    }
   },
   "cell_type": "code",
   "source": [
    "# Load tokenizer\n",
    "tokenizer = AutoTokenizer.from_pretrained(model, trust_remote_code=True)\n",
    "\n",
    "# Quantization Config\n",
    "quant_config = BitsAndBytesConfig(\n",
    "   load_in_4bit=True,\n",
    "   bnb_4bit_quant_type=\"nf4\",\n",
    "   bnb_4bit_use_double_quant=False,\n",
    "   bnb_4bit_compute_dtype=torch.bfloat16\n",
    ")\n",
    "\n",
    "# Load Model\n",
    "model = AutoModelForCausalLM.from_pretrained(\n",
    "    model,\n",
    "    trust_remote_code=True,\n",
    "    device_map=\"auto\",\n",
    "    torch_dtype=\"auto\",\n",
    "    quantization_config=quant_config\n",
    ")"
   ],
   "id": "11bdfcd807e430de",
   "outputs": [],
   "execution_count": 27
  },
  {
   "metadata": {
    "ExecuteTime": {
     "end_time": "2024-06-11T11:01:39.271603Z",
     "start_time": "2024-06-11T11:01:37.089174Z"
    }
   },
   "cell_type": "code",
   "source": [
    "from string import Template\n",
    "from datasets import load_dataset\n",
    "\n",
    "dataset = load_dataset('google/code_x_glue_cc_clone_detection_big_clone_bench')\n",
    "dataset_train = dataset['train']\n",
    "dataset_test = dataset['test']\n",
    "dataset_val = dataset['validation']\n",
    "\n",
    "instruction_template = Template(\n",
    "\"\"\"\n",
    "# Instruction\n",
    "Do code 1 and code 2 solve identical problems with the same\n",
    "inputs and outputs? answer with True or False and no explanation.\n",
    "Example:\n",
    "code 1: private void setNodekeyInJsonResponse(String service) throws Exception {\\n        String filename = this.baseDirectory + service + \".json\";\\n        Scanner s = new Scanner(new File(filename));\\n        PrintWriter fw = new PrintWriter(new File(filename + \".new\"));\\n        while (s.hasNextLine()) {\\n            fw.println(s.nextLine().replaceAll(\"NODEKEY\", this.key));\\n        }\\n        s.close();\\n        fw.close();\\n        (new File(filename + \".new\")).renameTo(new File(filename));\\n    }\\n'\n",
    "code 2: public void transform(String style, String spec, OutputStream out) throws IOException {\\n        URL url = new URL(rootURL, spec);\\n        InputStream in = new PatchXMLSymbolsStream(new StripDoctypeStream(url.openStream()));\\n        transform(style, in, out);\\n        in.close();\\n    }\\n'\n",
    "Answer:\n",
    "False\n",
    "\n",
    "Input\n",
    "$question\n",
    "Answer:\n",
    "\"\"\"\n",
    "    \n",
    ")\n",
    "\n",
    "\n"
   ],
   "id": "cfa6e87729199b27",
   "outputs": [],
   "execution_count": 28
  },
  {
   "metadata": {
    "ExecuteTime": {
     "end_time": "2024-06-11T11:01:39.277248Z",
     "start_time": "2024-06-11T11:01:39.272761Z"
    }
   },
   "cell_type": "code",
   "source": [
    "dataset_test = dataset_test.select([1, 2, 3])\n",
    "dataset_test"
   ],
   "id": "a08c2858ab7748a2",
   "outputs": [
    {
     "data": {
      "text/plain": [
       "Dataset({\n",
       "    features: ['id', 'id1', 'id2', 'func1', 'func2', 'label'],\n",
       "    num_rows: 3\n",
       "})"
      ]
     },
     "execution_count": 29,
     "metadata": {},
     "output_type": "execute_result"
    }
   ],
   "execution_count": 29
  },
  {
   "metadata": {
    "ExecuteTime": {
     "end_time": "2024-06-11T11:01:39.288775Z",
     "start_time": "2024-06-11T11:01:39.278323Z"
    }
   },
   "cell_type": "code",
   "source": [
    "def contact_input(dataset):\n",
    "    dataset = dataset.map(\n",
    "        lambda example: {'input': 'code1:' + str(example['func1']) + '\\n' + 'code2:' + str(example['func2'])},\n",
    "        remove_columns=['func1', 'func2']\n",
    "    )\n",
    "    dataset = dataset.map(\n",
    "        lambda example: {'prompt_input':instruction_template.substitute({\"question\" : example['input']})},\n",
    "        remove_columns=['input']\n",
    "    )\n",
    "\n",
    "    # If 'label' column is of boolean type\n",
    "    dataset = dataset.map(lambda example: {'label_output': 'True' if example['label'] else 'False'},\n",
    "                          remove_columns=['label'])\n",
    "\n",
    "    return dataset\n",
    "\n",
    "# dataset_train = contact_input(dataset_train)\n",
    "dataset_test = contact_input(dataset_test)\n",
    "# dataset_val = contact_input(dataset_val)\n"
   ],
   "id": "4212df1082692ab9",
   "outputs": [],
   "execution_count": 30
  },
  {
   "metadata": {
    "ExecuteTime": {
     "end_time": "2024-06-11T11:01:39.294754Z",
     "start_time": "2024-06-11T11:01:39.289401Z"
    }
   },
   "cell_type": "code",
   "source": [
    "xx = dataset_test[0]\n",
    "xx['prompt_input']"
   ],
   "id": "743ce1cbddaced06",
   "outputs": [
    {
     "data": {
      "text/plain": [
       "'\\n# Instruction\\nDo code 1 and code 2 solve identical problems with the same\\ninputs and outputs? answer with True or False and no explanation.\\nExample:\\ncode 1: private void setNodekeyInJsonResponse(String service) throws Exception {\\n        String filename = this.baseDirectory + service + \".json\";\\n        Scanner s = new Scanner(new File(filename));\\n        PrintWriter fw = new PrintWriter(new File(filename + \".new\"));\\n        while (s.hasNextLine()) {\\n            fw.println(s.nextLine().replaceAll(\"NODEKEY\", this.key));\\n        }\\n        s.close();\\n        fw.close();\\n        (new File(filename + \".new\")).renameTo(new File(filename));\\n    }\\n\\'\\ncode 2: public void transform(String style, String spec, OutputStream out) throws IOException {\\n        URL url = new URL(rootURL, spec);\\n        InputStream in = new PatchXMLSymbolsStream(new StripDoctypeStream(url.openStream()));\\n        transform(style, in, out);\\n        in.close();\\n    }\\n\\'\\nAnswer:\\nFalse\\n\\nInput\\ncode1:    private boolean getWave(String url, String Word) {\\n        try {\\n            File FF = new File(f.getParent() + \"/\" + f.getName() + \"pron\");\\n            FF.mkdir();\\n            URL url2 = new URL(url);\\n            BufferedReader stream = new BufferedReader(new InputStreamReader(url2.openStream()));\\n            File Fdel = new File(f.getParent() + \"/\" + f.getName() + \"pron/\" + Word + \".wav\");\\n            if (!Fdel.exists()) {\\n                FileOutputStream outstream = new FileOutputStream(f.getParent() + \"/\" + f.getName() + \"pron/\" + Word + \".wav\");\\n                BufferedWriter bwriter = new BufferedWriter(new OutputStreamWriter(outstream));\\n                char[] binput = new char[1024];\\n                int len = stream.read(binput, 0, 1024);\\n                while (len > 0) {\\n                    bwriter.write(binput, 0, len);\\n                    len = stream.read(binput, 0, 1024);\\n                }\\n                bwriter.close();\\n                outstream.close();\\n            }\\n            stream.close();\\n        } catch (Exception e) {\\n            System.out.println(e.getMessage());\\n            return false;\\n        }\\n        return true;\\n    }\\n\\ncode2:    private int[] sort(int n) {\\n        int[] mas = new int[n];\\n        Random rand = new Random();\\n        for (int i = 0; i < n; i++) {\\n            mas[i] = rand.nextInt(10) + 1;\\n        }\\n        boolean t = true;\\n        int tmp = 0;\\n        while (t) {\\n            t = false;\\n            for (int i = 0; i < mas.length - 1; i++) {\\n                if (mas[i] > mas[i + 1]) {\\n                    tmp = mas[i];\\n                    mas[i] = mas[i + 1];\\n                    mas[i + 1] = tmp;\\n                    t = true;\\n                }\\n            }\\n        }\\n        return mas;\\n    }\\n\\nAnswer:\\n'"
      ]
     },
     "execution_count": 31,
     "metadata": {},
     "output_type": "execute_result"
    }
   ],
   "execution_count": 31
  },
  {
   "metadata": {
    "ExecuteTime": {
     "end_time": "2024-06-11T11:01:39.303253Z",
     "start_time": "2024-06-11T11:01:39.295489Z"
    }
   },
   "cell_type": "code",
   "source": [
    "from dataclasses import dataclass\n",
    "from transformers import AutoTokenizer, BatchEncoding\n",
    "\n",
    "@dataclass\n",
    "class SimpleCollator:\n",
    "    tokenizer: AutoTokenizer\n",
    "    config: dict \n",
    "    \n",
    "    def __call__(self, examples: list) -> dict:\n",
    "        batch = BatchEncoding(\n",
    "            {\n",
    "                k: [examples[i][k] for i in range(len(examples))]\n",
    "                for k, v in examples[0].items()\n",
    "            }\n",
    "        )\n",
    "\n",
    "        encoded_inputs = self.tokenizer(\n",
    "            batch[self.config[\"input_column\"]], \n",
    "            max_length = 240, \n",
    "            padding=True, \n",
    "            truncation=True,\n",
    "            return_tensors=\"pt\"\n",
    "        )\n",
    "\n",
    "        encoded_targets = self.tokenizer(\n",
    "            batch[self.config[\"output_column\"]], max_length = 10, padding=True, truncation=True,\n",
    "            return_tensors=\"pt\"\n",
    "        )\n",
    "        encoded_inputs[\"labels\"] = encoded_targets[\"input_ids\"]\n",
    "\n",
    "        return encoded_inputs\n",
    "\n",
    "collator = SimpleCollator(tokenizer, {\"input_column\": \"prompt_input\", \"output_column\": \"label_output\"})"
   ],
   "id": "edd688f833d34d15",
   "outputs": [],
   "execution_count": 32
  },
  {
   "metadata": {
    "ExecuteTime": {
     "end_time": "2024-06-11T11:01:39.311356Z",
     "start_time": "2024-06-11T11:01:39.304145Z"
    }
   },
   "cell_type": "code",
   "source": [
    "# from peft import get_peft_config, get_peft_model, LoraConfig, TaskType\n",
    "# \n",
    "# peft_config = LoraConfig(\n",
    "#     task_type=TaskType.SEQ_2_SEQ_LM, \n",
    "#     inference_mode=False, \n",
    "#     target_modules=[\"q\", \"k\", \"v\"],\n",
    "#     r=8, \n",
    "#     lora_alpha=32, \n",
    "#     lora_dropout=0.5\n",
    "# )\n",
    "# \n",
    "# model = get_peft_model(model, peft_config)"
   ],
   "id": "9aad83b74c80d45d",
   "outputs": [],
   "execution_count": 33
  },
  {
   "metadata": {
    "ExecuteTime": {
     "end_time": "2024-06-11T11:01:39.324376Z",
     "start_time": "2024-06-11T11:01:39.312067Z"
    }
   },
   "cell_type": "code",
   "source": [
    "from torch.utils.data import DataLoader\n",
    "\n",
    "# Prepare Dataloaders\n",
    "train_dl = DataLoader(\n",
    "    dataset_train,\n",
    "    batch_size=4,\n",
    "    pin_memory=True,\n",
    "    shuffle=False,\n",
    "    collate_fn=collator\n",
    ")\n",
    "\n",
    "val_dl = DataLoader(\n",
    "    dataset_val,\n",
    "    batch_size=16,\n",
    "    pin_memory=True,\n",
    "    shuffle=True,\n",
    "    collate_fn=collator\n",
    ")\n",
    "test_dl = DataLoader(\n",
    "    dataset_test,\n",
    "    batch_size=16,\n",
    "    pin_memory=True,\n",
    "    shuffle=False,\n",
    "    collate_fn=collator\n",
    ")\n"
   ],
   "id": "663d87006a32bbef",
   "outputs": [],
   "execution_count": 34
  },
  {
   "metadata": {
    "ExecuteTime": {
     "end_time": "2024-06-11T11:01:39.648212Z",
     "start_time": "2024-06-11T11:01:39.325008Z"
    }
   },
   "cell_type": "code",
   "source": [
    "import tqdm.notebook as tqdm\n",
    "\n",
    "\n",
    "\n",
    "all_preds = []\n",
    "for batch in tqdm.tqdm(test_dl, total = len(test_dl)):\n",
    "    \n",
    "    preds = model.generate(**batch, max_new_tokens=10)\n",
    "    outputs = tokenizer.batch_decode(preds, skip_special_tokens=True)\n",
    "    all_preds.extend(outputs)\n",
    "\n",
    "all_preds"
   ],
   "id": "df6005acab67661",
   "outputs": [
    {
     "data": {
      "text/plain": [
       "  0%|          | 0/1 [00:00<?, ?it/s]"
      ],
      "application/vnd.jupyter.widget-view+json": {
       "version_major": 2,
       "version_minor": 0,
       "model_id": "0f8c61e995154fddb740e1f05704a51c"
      }
     },
     "metadata": {},
     "output_type": "display_data"
    },
    {
     "name": "stderr",
     "output_type": "stream",
     "text": [
      "Setting `pad_token_id` to `eos_token_id`:32021 for open-end generation.\n"
     ]
    },
    {
     "data": {
      "text/plain": [
       "['\\n# Instruction\\nDo code 1 and code 2 solve identical problems with the same\\ninputs and outputs? answer with True or False and no explanation.\\nExample:\\ncode 1: private void setNodekeyInJsonResponse(String service) throws Exception {\\n        String filename = this.baseDirectory + service + \".json\";\\n        Scanner s = new Scanner(new File(filename));\\n        PrintWriter fw = new PrintWriter(new File(filename + \".new\"));\\n        while (s.hasNextLine()) {\\n            fw.println(s.nextLine().replaceAll(\"NODEKEY\", this.key));\\n        }\\n        s.close();\\n        fw.close();\\n        (new File(filename + \".new\")).renameTo(new File(filename));\\n    }\\n\\'\\ncode 2: public void transform(String style, String spec, OutputStream out) throws IOException {\\n        URL url = new URL(rootURL, spec);\\n        InputStream in = new PatchXMLSymbolsStream(new StripDoctypeStream(url.openStream()));\\n        out.write(',\n",
       " '\\n# Instruction\\nDo code 1 and code 2 solve identical problems with the same\\ninputs and outputs? answer with True or False and no explanation.\\nExample:\\ncode 1: private void setNodekeyInJsonResponse(String service) throws Exception {\\n        String filename = this.baseDirectory + service + \".json\";\\n        Scanner s = new Scanner(new File(filename));\\n        PrintWriter fw = new PrintWriter(new File(filename + \".new\"));\\n        while (s.hasNextLine()) {\\n            fw.println(s.nextLine().replaceAll(\"NODEKEY\", this.key));\\n        }\\n        s.close();\\n        fw.close();\\n        (new File(filename + \".new\")).renameTo(new File(filename));\\n    }\\n\\'\\ncode 2: public void transform(String style, String spec, OutputStream out) throws IOException {\\n        URL url = new URL(rootURL, spec);\\n        InputStream in = new PatchXMLSymbolsStream(new StripDoctypeStream(url.openStream()));\\n        out.write(',\n",
       " '\\n# Instruction\\nDo code 1 and code 2 solve identical problems with the same\\ninputs and outputs? answer with True or False and no explanation.\\nExample:\\ncode 1: private void setNodekeyInJsonResponse(String service) throws Exception {\\n        String filename = this.baseDirectory + service + \".json\";\\n        Scanner s = new Scanner(new File(filename));\\n        PrintWriter fw = new PrintWriter(new File(filename + \".new\"));\\n        while (s.hasNextLine()) {\\n            fw.println(s.nextLine().replaceAll(\"NODEKEY\", this.key));\\n        }\\n        s.close();\\n        fw.close();\\n        (new File(filename + \".new\")).renameTo(new File(filename));\\n    }\\n\\'\\ncode 2: public void transform(String style, String spec, OutputStream out) throws IOException {\\n        URL url = new URL(rootURL, spec);\\n        InputStream in = new PatchXMLSymbolsStream(new StripDoctypeStream(url.openStream()));\\n        out.write(']"
      ]
     },
     "execution_count": 35,
     "metadata": {},
     "output_type": "execute_result"
    }
   ],
   "execution_count": 35
  },
  {
   "metadata": {
    "ExecuteTime": {
     "end_time": "2024-06-11T11:01:39.651414Z",
     "start_time": "2024-06-11T11:01:39.649187Z"
    }
   },
   "cell_type": "code",
   "source": "print(all_preds)",
   "id": "e33a1fae07216213",
   "outputs": [
    {
     "name": "stdout",
     "output_type": "stream",
     "text": [
      "['\\n# Instruction\\nDo code 1 and code 2 solve identical problems with the same\\ninputs and outputs? answer with True or False and no explanation.\\nExample:\\ncode 1: private void setNodekeyInJsonResponse(String service) throws Exception {\\n        String filename = this.baseDirectory + service + \".json\";\\n        Scanner s = new Scanner(new File(filename));\\n        PrintWriter fw = new PrintWriter(new File(filename + \".new\"));\\n        while (s.hasNextLine()) {\\n            fw.println(s.nextLine().replaceAll(\"NODEKEY\", this.key));\\n        }\\n        s.close();\\n        fw.close();\\n        (new File(filename + \".new\")).renameTo(new File(filename));\\n    }\\n\\'\\ncode 2: public void transform(String style, String spec, OutputStream out) throws IOException {\\n        URL url = new URL(rootURL, spec);\\n        InputStream in = new PatchXMLSymbolsStream(new StripDoctypeStream(url.openStream()));\\n        out.write(', '\\n# Instruction\\nDo code 1 and code 2 solve identical problems with the same\\ninputs and outputs? answer with True or False and no explanation.\\nExample:\\ncode 1: private void setNodekeyInJsonResponse(String service) throws Exception {\\n        String filename = this.baseDirectory + service + \".json\";\\n        Scanner s = new Scanner(new File(filename));\\n        PrintWriter fw = new PrintWriter(new File(filename + \".new\"));\\n        while (s.hasNextLine()) {\\n            fw.println(s.nextLine().replaceAll(\"NODEKEY\", this.key));\\n        }\\n        s.close();\\n        fw.close();\\n        (new File(filename + \".new\")).renameTo(new File(filename));\\n    }\\n\\'\\ncode 2: public void transform(String style, String spec, OutputStream out) throws IOException {\\n        URL url = new URL(rootURL, spec);\\n        InputStream in = new PatchXMLSymbolsStream(new StripDoctypeStream(url.openStream()));\\n        out.write(', '\\n# Instruction\\nDo code 1 and code 2 solve identical problems with the same\\ninputs and outputs? answer with True or False and no explanation.\\nExample:\\ncode 1: private void setNodekeyInJsonResponse(String service) throws Exception {\\n        String filename = this.baseDirectory + service + \".json\";\\n        Scanner s = new Scanner(new File(filename));\\n        PrintWriter fw = new PrintWriter(new File(filename + \".new\"));\\n        while (s.hasNextLine()) {\\n            fw.println(s.nextLine().replaceAll(\"NODEKEY\", this.key));\\n        }\\n        s.close();\\n        fw.close();\\n        (new File(filename + \".new\")).renameTo(new File(filename));\\n    }\\n\\'\\ncode 2: public void transform(String style, String spec, OutputStream out) throws IOException {\\n        URL url = new URL(rootURL, spec);\\n        InputStream in = new PatchXMLSymbolsStream(new StripDoctypeStream(url.openStream()));\\n        out.write(']\n"
     ]
    }
   ],
   "execution_count": 36
  },
  {
   "metadata": {
    "ExecuteTime": {
     "end_time": "2024-06-11T11:01:39.653557Z",
     "start_time": "2024-06-11T11:01:39.652187Z"
    }
   },
   "cell_type": "code",
   "source": "",
   "id": "9ec0256bf5a8e6dc",
   "outputs": [],
   "execution_count": 36
  }
 ],
 "metadata": {
  "kernelspec": {
   "display_name": "Python 3",
   "language": "python",
   "name": "python3"
  },
  "language_info": {
   "codemirror_mode": {
    "name": "ipython",
    "version": 2
   },
   "file_extension": ".py",
   "mimetype": "text/x-python",
   "name": "python",
   "nbconvert_exporter": "python",
   "pygments_lexer": "ipython2",
   "version": "2.7.6"
  }
 },
 "nbformat": 4,
 "nbformat_minor": 5
}
